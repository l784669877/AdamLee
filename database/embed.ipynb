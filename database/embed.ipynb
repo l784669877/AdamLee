{
 "cells": [
  {
   "cell_type": "code",
   "execution_count": 1,
   "metadata": {},
   "outputs": [],
   "source": [
    "from typing import Dict, List, Any\n",
    "from langchain_core.embeddings import Embeddings\n",
    "from langchain.pydantic_v1 import BaseModel, root_validator\n",
    "\n",
    "\n",
    "class ZhipuAIEmbeddings(BaseModel, Embeddings):\n",
    "    \"\"\"`Zhipuai Embeddings` embedding models.\"\"\"\n",
    "    \n",
    "    client: Any\n",
    "    @root_validator()\n",
    "    def validate_environment(cls, values: Dict) -> Dict:\n",
    "        \"\"\"\n",
    "        实例化ZhipuAI为values[\"client\"]\n",
    "        Args:\n",
    "            values (Dict): 包含配置信息的字典，必须包含 client 的字段.\n",
    "        Returns:\n",
    "            values (Dict): 包含配置信息的字典。如果环境中有zhipuai库，则将返回实例化的ZhipuAI类；否则将报错 'ModuleNotFoundError: No module named 'zhipuai''.\n",
    "        \"\"\"\n",
    "        from zhipuai import ZhipuAI\n",
    "        values[\"client\"] = ZhipuAI(api_key='6f8ed0ef6dc443211b2cf3500ab0e011.23uKZK35NqvKiNqu')\n",
    "        return values\n",
    " \n",
    " \n",
    "    def embed_query(self, text: str) -> List[float]:\n",
    "        \"\"\"\n",
    "        生成输入文本的 embedding.\n",
    "        Args:\n",
    "            texts (str): 要生成 embedding 的文本.\n",
    "        Return:\n",
    "            embeddings (List[float]): 输入文本的 embedding，一个浮点数值列表.\n",
    "        \"\"\"\n",
    "        embeddings = self.client.embeddings.create(\n",
    "            model=\"embedding-2\",\n",
    "            input=text\n",
    "        )\n",
    "        return embeddings.data[0].embedding\n",
    " \n",
    " \n",
    "    def embed_documents(self, texts: List[str]) -> List[List[float]]:\n",
    "        \"\"\"\n",
    "        生成输入文本列表的 embedding.\n",
    "        Args:\n",
    "            texts (List[str]): 要生成 embedding 的文本列表.\n",
    "        Returns:\n",
    "            List[List[float]]: 输入列表中每个文档的 embedding 列表。每个 embedding 都表示为一个浮点值列表。\n",
    "        \"\"\"\n",
    "        return [self.embed_query(text) for text in texts]\n",
    " \n",
    " \n",
    "    async def aembed_documents(self, texts: List[str]) -> List[List[float]]:\n",
    "        \"\"\"Asynchronous Embed search docs.\"\"\"\n",
    "        raise NotImplementedError(\"Please use `embed_documents`. Official does not support asynchronous requests\")\n",
    " \n",
    "    async def aembed_query(self, text: str) -> List[float]:\n",
    "        \"\"\"Asynchronous Embed query text.\"\"\"\n",
    "        raise NotImplementedError(\"Please use `aembed_query`. Official does not support asynchronous requests\")\n",
    "\n",
    "embedding = ZhipuAIEmbeddings()"
   ]
  },
  {
   "cell_type": "code",
   "execution_count": null,
   "metadata": {},
   "outputs": [],
   "source": [
    "from db_utils import load_db, add_know_record, ZhipuAIEmbeddings\n",
    "breakup_db = load_db(embedding, r'database\\breakup\\breakupbreakup_db')"
   ]
  }
 ],
 "metadata": {
  "kernelspec": {
   "display_name": "chatglm3",
   "language": "python",
   "name": "python3"
  },
  "language_info": {
   "codemirror_mode": {
    "name": "ipython",
    "version": 3
   },
   "file_extension": ".py",
   "mimetype": "text/x-python",
   "name": "python",
   "nbconvert_exporter": "python",
   "pygments_lexer": "ipython3",
   "version": "3.11.8"
  }
 },
 "nbformat": 4,
 "nbformat_minor": 2
}
